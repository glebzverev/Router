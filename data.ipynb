{
 "cells": [
  {
   "cell_type": "code",
   "execution_count": 7,
   "id": "90241135",
   "metadata": {},
   "outputs": [],
   "source": [
    "import pandas as pd\n",
    "\n",
    "columns = [\"chainId\", \"dexId\", \"url\", \"pairAddress\", \"labels\"]\n",
    "df = pd.read_json(\"data.json\", orient=\"index\")\n",
    "\n"
   ]
  },
  {
   "cell_type": "code",
   "execution_count": 37,
   "id": "9806eb08",
   "metadata": {},
   "outputs": [
    {
     "data": {
      "text/plain": [
       "Index(['0x88e6A0c2dDD26FEEb64F039a2c41296FcB3f5640',\n",
       "       '0x3416cF6C708Da44DB2624D63ea0AAef7113527C6',\n",
       "       '0x4585FE77225b41b697C938B018E2Ac67Ac5a20c0',\n",
       "       '0x8ad599c3A0ff1De082011EFDDc58f1908eb6e6D8',\n",
       "       '0x11b815efB8f581194ae79006d24E0d814B7697F6',\n",
       "       '0xC31E54c7a869B9FcBEcc14363CF510d1c41fa443',\n",
       "       '0x60594a405d53811d3BC4766596EFD80fd545A270',\n",
       "       '0xA374094527e1673A86dE625aa59517c5dE346d32',\n",
       "       '0x16b9a82891338f9bA80E2D6970FddA79D1eb0daE',\n",
       "       '0x58F876857a02D6762E0101bb5C46A8c1ED44Dc16',\n",
       "       ...\n",
       "       '0xd360131B77EAD72F1f23fB185b4896fE01dC8cB5',\n",
       "       '0x9d406c4067A53f65DE1A8A9273D55bfEA5870a75',\n",
       "       '0x8D4fD401990Ef8D2EB3D0b284cb6415A387519bd',\n",
       "       '0xa33e376932b2c01323f0a7f9bbe0a53f7662b2e900010000000000000000031d-0x1f9840a85d5aF5bf1D1762F925BDADdC4201F984-0x2260FAC5E5542a773Aa44fBCfeDf7C193bc2C599',\n",
       "       '0xf00e80f0DE9aEa0B33aA229a4014572777E422EE',\n",
       "       '0xfaA318479b7755b2dBfDD34dC306cb28B420Ad12',\n",
       "       '0x3FCAb0a90d8F542389B9C6d7ddc762EeeA39B49A',\n",
       "       '0xEBFb684dD2b01E698ca6c14F10e4f289934a54D6',\n",
       "       '0x016fD003eef102d19eE92a00e93667Cd9849B290',\n",
       "       '0x346D0390e18B241Ef51cb5a080e2Bfb2DDf8E5E0'],\n",
       "      dtype='object', length=252)"
      ]
     },
     "execution_count": 37,
     "metadata": {},
     "output_type": "execute_result"
    }
   ],
   "source": [
    "df.index.unique()"
   ]
  },
  {
   "cell_type": "code",
   "execution_count": 35,
   "id": "044fcb4d",
   "metadata": {},
   "outputs": [
    {
     "data": {
      "text/plain": [
       "['0x0000000000000000000000000000000000000000',\n",
       " '0x2260FAC5E5542a773Aa44fBCfeDf7C193bc2C599',\n",
       " '0xA0b86991c6218b36c1d19D4a2e9Eb0cE3606eB48',\n",
       " '0xB8c77482e45F1F44dE1745F52C74426C631bDD52',\n",
       " '0xdAC17F958D2ee523a2206206994597C13D831ec7',\n",
       " '0x4Fabb145d64652a948d72533023f6E7A623C7C53',\n",
       " '0x7D1AfA7B718fb893dB30A3aBc0Cfc608AaCfeBB0',\n",
       " '0xae7ab96520DE3A18E5e111B5EaAb095312D7fE84',\n",
       " '0x2b591e99afE9f32eAA6214f7B7629768c40Eeb39',\n",
       " '0x6B175474E89094C44Da98b954EedeAC495271d0F',\n",
       " '0x95aD61b0a150d79219dCF64E1E6Cc01f0B64C4cE',\n",
       " '0x75231F58b43240C9718Dd58B4967c5114342a86c',\n",
       " '0x1f9840a85d5aF5bf1D1762F925BDADdC4201F984']"
      ]
     },
     "execution_count": 35,
     "metadata": {},
     "output_type": "execute_result"
    }
   ],
   "source": [
    "coins = pd.read_json(\"Coin.json\", orient=\"index\")\n",
    "coin = [i for i in coins.loc['eth']]\n",
    "coin"
   ]
  },
  {
   "cell_type": "code",
   "execution_count": 41,
   "id": "740e7833",
   "metadata": {},
   "outputs": [
    {
     "data": {
      "text/plain": [
       "({'address': '0xC02aaA39b223FE8D0A0e5C4F27eAD9083C756Cc2',\n",
       "  'name': 'Wrapped Ether',\n",
       "  'symbol': 'WETH'},\n",
       " {'address': '0xA0b86991c6218b36c1d19D4a2e9Eb0cE3606eB48',\n",
       "  'name': 'USD Coin',\n",
       "  'symbol': 'USDC'})"
      ]
     },
     "execution_count": 41,
     "metadata": {},
     "output_type": "execute_result"
    }
   ],
   "source": [
    "pairs = [(base, quote) for (base, quote) in zip(df.baseToken, df.quoteToken)]\n",
    "pairs[0]"
   ]
  },
  {
   "cell_type": "code",
   "execution_count": 51,
   "id": "db66095d",
   "metadata": {},
   "outputs": [],
   "source": [
    "def getPools(address, pairs):\n",
    "    pools = []\n",
    "    for i,j in pairs:\n",
    "        if (i['address']==address or j['address']==address):\n",
    "            pools.append((i,j))\n",
    "    return pools\n",
    "\n",
    "def getPool(address1, address2, pairs):\n",
    "    pools = []\n",
    "    for i,j in pairs:\n",
    "        if (i['address']==address1 and j['address']==address2 or \\\n",
    "           i['address']==address2 and j['address']==address1):\n",
    "            pools.append((i,j))\n",
    "    return pools\n",
    "    \n",
    "\n",
    "    \n",
    "pools = {i+j:len(getPool(i,j, pairs)) for i in coin for j in coin if i!=j}"
   ]
  },
  {
   "cell_type": "code",
   "execution_count": 66,
   "id": "277482da",
   "metadata": {},
   "outputs": [
    {
     "name": "stdout",
     "output_type": "stream",
     "text": [
      "98\n"
     ]
    }
   ],
   "source": [
    "summ = 0\n",
    "for i in pools:\n",
    "    summ+=pools[i]\n",
    "print(summ)\n",
    "# import numpy as np\n",
    "\n",
    "# np.array(pools.values()).sum()"
   ]
  },
  {
   "cell_type": "code",
   "execution_count": null,
   "id": "ab1c8ce3",
   "metadata": {},
   "outputs": [],
   "source": []
  }
 ],
 "metadata": {
  "kernelspec": {
   "display_name": "Python 3 (ipykernel)",
   "language": "python",
   "name": "python3"
  },
  "language_info": {
   "codemirror_mode": {
    "name": "ipython",
    "version": 3
   },
   "file_extension": ".py",
   "mimetype": "text/x-python",
   "name": "python",
   "nbconvert_exporter": "python",
   "pygments_lexer": "ipython3",
   "version": "3.9.12"
  }
 },
 "nbformat": 4,
 "nbformat_minor": 5
}
